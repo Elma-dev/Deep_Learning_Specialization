{
  "nbformat": 4,
  "nbformat_minor": 0,
  "metadata": {
    "colab": {
      "provenance": [],
      "authorship_tag": "ABX9TyPGvsA7ucNIF3Xa7j4dcawY",
      "include_colab_link": true
    },
    "kernelspec": {
      "name": "python3",
      "display_name": "Python 3"
    },
    "language_info": {
      "name": "python"
    }
  },
  "cells": [
    {
      "cell_type": "markdown",
      "metadata": {
        "id": "view-in-github",
        "colab_type": "text"
      },
      "source": [
        "<a href=\"https://colab.research.google.com/github/Elma-dev/Deep_Learning_Specialization/blob/main/Deep_Learning_Specialization.ipynb\" target=\"_parent\"><img src=\"https://colab.research.google.com/assets/colab-badge.svg\" alt=\"Open In Colab\"/></a>"
      ]
    },
    {
      "cell_type": "code",
      "execution_count": 12,
      "metadata": {
        "id": "OeT7VX2s6v6r"
      },
      "outputs": [],
      "source": [
        "import numpy as np\n",
        "import time"
      ]
    },
    {
      "cell_type": "markdown",
      "source": [
        "# Vectorization"
      ],
      "metadata": {
        "id": "OXwPfoL_6z14"
      }
    },
    {
      "cell_type": "code",
      "source": [
        "#Sum Of Column Without for loop\n",
        "A=np.array([[65,0,4.4,68]\n",
        "         ,[1.2,104,52,8]\n",
        "         ,[1.8,135,99,0.9]])\n",
        "\n",
        "ones=np.ones((1,3))\n",
        "np.dot(ones,A)"
      ],
      "metadata": {
        "colab": {
          "base_uri": "https://localhost:8080/"
        },
        "id": "aowSlkmV65g6",
        "outputId": "92fc6915-d62d-41c9-c00c-4337ff379cc8"
      },
      "execution_count": 6,
      "outputs": [
        {
          "output_type": "execute_result",
          "data": {
            "text/plain": [
              "array([[ 68. , 239. , 155.4,  76.9]])"
            ]
          },
          "metadata": {},
          "execution_count": 6
        }
      ]
    },
    {
      "cell_type": "code",
      "source": [
        "#Vectorization Vs forLoop\n",
        "A=np.random.rand(10000)\n",
        "B=np.random.rand(10000)\n",
        "\n",
        "#Vectorization\n",
        "tic=time.time()\n",
        "c=np.dot(A,B)\n",
        "tac=time.time()\n",
        "print(f\"result={c} the operation take: {(tac-tic)*1000}ms\")\n",
        "\n",
        "#For Loop\n",
        "c=0\n",
        "tic=time.time()\n",
        "for i in range(10000):\n",
        "  c+=A[i]*B[i]\n",
        "tac=time.time()\n",
        "print(f\"result={c} the operation take: {(tac-tic)*1000}ms\")"
      ],
      "metadata": {
        "colab": {
          "base_uri": "https://localhost:8080/"
        },
        "id": "Orluy_-w7q0R",
        "outputId": "c50300e8-4321-45fc-dc54-98b05db6f59c"
      },
      "execution_count": 17,
      "outputs": [
        {
          "output_type": "stream",
          "name": "stdout",
          "text": [
            "result=2471.8928285555025 the operation take: 0.1277923583984375ms\n",
            "result=2471.8928285554866 the operation take: 4.808187484741211ms\n"
          ]
        }
      ]
    },
    {
      "cell_type": "markdown",
      "source": [
        "# Trics"
      ],
      "metadata": {
        "id": "PsyTQqvkB3UR"
      }
    },
    {
      "cell_type": "code",
      "source": [
        "#Row Vector / Column Vector / Rank 1 array\n",
        "\n",
        "#Rank 1 array\n",
        "print(f\"rank_1_array:\\n{np.random.randn(5)}\") #-> don't use it\n",
        "print(f\"column_vector:\\n{np.random.randn(1,5)}\")\n",
        "print(f\"row_vector:\\n{np.random.randn(5,1)}\")"
      ],
      "metadata": {
        "colab": {
          "base_uri": "https://localhost:8080/"
        },
        "id": "TRIDDb-VArGc",
        "outputId": "db87b520-a2d5-4084-b261-9515b57bf002"
      },
      "execution_count": 26,
      "outputs": [
        {
          "output_type": "stream",
          "name": "stdout",
          "text": [
            "rank_1_array:\n",
            "[ 0.1241815  -0.98621466 -0.72945895 -0.99423603  0.45756124]\n",
            "column_vector:\n",
            "[[-0.4032663  -1.52366816  2.576655   -0.5910431   0.52406475]]\n",
            "row_vector:\n",
            "[[ 1.67827423]\n",
            " [-1.18179114]\n",
            " [-0.79054254]\n",
            " [-0.44496086]\n",
            " [ 1.13109552]]\n"
          ]
        }
      ]
    },
    {
      "cell_type": "code",
      "source": [
        "a=np.array([[2,1],[1,3]])\n",
        "np.dot(a,a)"
      ],
      "metadata": {
        "colab": {
          "base_uri": "https://localhost:8080/"
        },
        "id": "s_esupvkFaiQ",
        "outputId": "fc1b67bc-160a-4387-a8b4-164f47f7148a"
      },
      "execution_count": 23,
      "outputs": [
        {
          "output_type": "execute_result",
          "data": {
            "text/plain": [
              "array([[ 5,  5],\n",
              "       [ 5, 10]])"
            ]
          },
          "metadata": {},
          "execution_count": 23
        }
      ]
    },
    {
      "cell_type": "code",
      "source": [
        "a=np.random.randn(12288,150)\n",
        "b=np.random.randn(150,45)\n",
        "\n",
        "np.dot(a,b).shape\n",
        "a.sum()"
      ],
      "metadata": {
        "colab": {
          "base_uri": "https://localhost:8080/"
        },
        "id": "4s1NpEwEHp5S",
        "outputId": "27d6a73d-8c24-4186-af35-2be3f2be31cc"
      },
      "execution_count": 30,
      "outputs": [
        {
          "output_type": "execute_result",
          "data": {
            "text/plain": [
              "(12288, 45)"
            ]
          },
          "metadata": {},
          "execution_count": 30
        }
      ]
    },
    {
      "cell_type": "code",
      "source": [
        "a=np.random.randn(2,3)\n",
        "b=np.random.randn(2,1)\n",
        "a+b"
      ],
      "metadata": {
        "colab": {
          "base_uri": "https://localhost:8080/"
        },
        "id": "jnn2m1smJbqx",
        "outputId": "3c2cf032-4fa1-44b7-8aaa-719a7ace18ce"
      },
      "execution_count": 28,
      "outputs": [
        {
          "output_type": "execute_result",
          "data": {
            "text/plain": [
              "array([[-0.77279559, -0.90674973,  0.36632089],\n",
              "       [ 0.11768284,  2.26659315, -3.07627972]])"
            ]
          },
          "metadata": {},
          "execution_count": 28
        }
      ]
    },
    {
      "cell_type": "code",
      "source": [],
      "metadata": {
        "id": "N5xWt4smXdIY"
      },
      "execution_count": null,
      "outputs": []
    },
    {
      "cell_type": "markdown",
      "source": [
        "# Cat Classification Scratch"
      ],
      "metadata": {
        "id": "iZz0hUBIXd6J"
      }
    }
  ]
}